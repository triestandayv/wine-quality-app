{
 "cells": [
  {
   "cell_type": "code",
   "execution_count": 4,
   "id": "e1182343-87ef-4ee8-87ac-de1446c72234",
   "metadata": {},
   "outputs": [
    {
     "name": "stdout",
     "output_type": "stream",
     "text": [
      "Accuracy: 0.8773584905660378\n",
      "\n",
      "Classification Report:\n",
      "               precision    recall  f1-score   support\n",
      "\n",
      "           0       0.91      0.95      0.93       180\n",
      "           1       0.62      0.47      0.54        32\n",
      "\n",
      "    accuracy                           0.88       212\n",
      "   macro avg       0.77      0.71      0.73       212\n",
      "weighted avg       0.87      0.88      0.87       212\n",
      "\n",
      "✅ Model saved as decision_tree_wine_model.pkl\n"
     ]
    },
    {
     "name": "stderr",
     "output_type": "stream",
     "text": [
      "C:\\Users\\Triestan Talaman\\AppData\\Local\\Temp\\ipykernel_6748\\2419601469.py:14: SettingWithCopyWarning: \n",
      "A value is trying to be set on a copy of a slice from a DataFrame.\n",
      "Try using .loc[row_indexer,col_indexer] = value instead\n",
      "\n",
      "See the caveats in the documentation: https://pandas.pydata.org/pandas-docs/stable/user_guide/indexing.html#returning-a-view-versus-a-copy\n",
      "  df_clean['good_quality'] = (df_clean['quality'] >= 7).astype(int)\n"
     ]
    }
   ],
   "source": [
    "import pandas as pd\n",
    "from sklearn.model_selection import train_test_split\n",
    "from sklearn.tree import DecisionTreeClassifier\n",
    "from sklearn.metrics import accuracy_score, classification_report\n",
    "import joblib\n",
    "\n",
    "# Load dataset\n",
    "df = pd.read_csv(\"winequality-red-selected-missing.csv\")\n",
    "\n",
    "# Drop rows with missing values (quick fix for now)\n",
    "df_clean = df.dropna()\n",
    "\n",
    "# Create binary target\n",
    "df_clean['good_quality'] = (df_clean['quality'] >= 7).astype(int)\n",
    "\n",
    "# Features and target\n",
    "X = df_clean.drop(['quality', 'good_quality'], axis=1)\n",
    "y = df_clean['good_quality']\n",
    "\n",
    "# Train/test split\n",
    "X_train, X_test, y_train, y_test = train_test_split(X, y, test_size=0.2, random_state=42)\n",
    "\n",
    "# Train Decision Tree\n",
    "dt_model = DecisionTreeClassifier(random_state=42)\n",
    "dt_model.fit(X_train, y_train)\n",
    "\n",
    "# Evaluate\n",
    "y_pred = dt_model.predict(X_test)\n",
    "print(\"Accuracy:\", accuracy_score(y_test, y_pred))\n",
    "print(\"\\nClassification Report:\\n\", classification_report(y_test, y_pred))\n",
    "\n",
    "# Save the model\n",
    "joblib.dump(dt_model, \"decision_tree_wine_model.pkl\")\n",
    "print(\"✅ Model saved as decision_tree_wine_model.pkl\")"
   ]
  },
  {
   "cell_type": "code",
   "execution_count": null,
   "id": "a941e302-3d4b-479c-9999-a4894f49c53e",
   "metadata": {},
   "outputs": [],
   "source": []
  }
 ],
 "metadata": {
  "kernelspec": {
   "display_name": "Python 3 (ipykernel)",
   "language": "python",
   "name": "python3"
  },
  "language_info": {
   "codemirror_mode": {
    "name": "ipython",
    "version": 3
   },
   "file_extension": ".py",
   "mimetype": "text/x-python",
   "name": "python",
   "nbconvert_exporter": "python",
   "pygments_lexer": "ipython3",
   "version": "3.13.7"
  }
 },
 "nbformat": 4,
 "nbformat_minor": 5
}
